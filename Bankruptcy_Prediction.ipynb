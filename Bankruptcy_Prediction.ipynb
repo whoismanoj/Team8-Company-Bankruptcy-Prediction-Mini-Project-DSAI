{
 "cells": [
  {
   "cell_type": "markdown",
   "id": "48268ece-62f7-4acd-bf87-26af10d63c22",
   "metadata": {},
   "source": [
    "### Bankruptcy data from the Taiwan Economic Journal for the years 1999–2009\n",
    "### Company bankruptcy was defined based on the business regulations of the Taiwan Stock Exchange.\n",
    "\n",
    "#### Predict a company's bankuptcy based on the data\n",
    "#### Dataset by FEDESORIANO\n",
    "#### Kaggle Link: https://www.kaggle.com/datasets/fedesoriano/company-bankruptcy-prediction\n",
    "\n",
    "Project By Xing Ping, Edwin and Krishnadas"
   ]
  },
  {
   "cell_type": "markdown",
   "id": "08e00224-9462-4495-b57f-7b4e936cdfc8",
   "metadata": {},
   "source": [
    "## Feature Information\n",
    "(Y = Output/Target Feature, X = Input Features)\n",
    "\n",
    "* Y - Bankruptcy indicator: Class label; 1 for presence of bankruptcy, 0 for no bankruptcy.\n",
    "* X1 - ROA(C) before interest and depreciation before interest: Return On Total Assets(C)\n",
    "* X2 - ROA(A) before interest and % after tax: Return On Total Assets(A)\n",
    "* X3 - ROA(B) before interest and depreciation after tax: Return On Total Assets(B)\n",
    "* X4 - Operating Gross Margin: Gross Profit/Net Sales\n",
    "* X5 - Realized Sales Gross Margin: Realized Gross Profit/Net Sales\n",
    "* X6 - Operating Profit Rate: Operating Income/Net Sales\n",
    "* X7 - Pre-tax net Interest Rate: Pre-Tax Income/Net Sales\n",
    "* X8 - After-tax net Interest Rate: Net Income/Net Sales\n",
    "* X9 - Non-industry income and expenditure/revenue: Net Non-operating Income Ratio\n",
    "* X10 - Continuous interest rate (after tax): Net Income-Exclude Disposal Gain or Loss/Net Sales\n",
    "* X11 - Operating Expense Rate: Operating Expenses/Net Sales\n",
    "* X12 - Research and development expense rate: (Research and Development Expenses)/Net Sales\n",
    "* X13 - Cash flow rate: Cash Flow from Operating/Current Liabilities\n",
    "* X14 - Interest-bearing debt interest rate: Interest-bearing Debt/Equity\n",
    "* X15 - Tax rate (A): Effective Tax Rate\n",
    "* X16 - Net Value Per Share (B): Book Value Per Share(B)\n",
    "* X17 - Net Value Per Share (A): Book Value Per Share(A)\n",
    "* X18 - Net Value Per Share (C): Book Value Per Share(C)\n",
    "* X19 - Persistent EPS in the Last Four Seasons: EPS-Net Income\n",
    "* X20 - Cash Flow Per Share\n",
    "* X21 - Revenue Per Share (Yuan ¥): Sales Per Share\n",
    "* X22 - Operating Profit Per Share (Yuan ¥): Operating Income Per Share\n",
    "* X23 - Per Share Net profit before tax (Yuan ¥): Pretax Income Per Share\n",
    "* X24 - Realized Sales Gross Profit Growth Rate\n",
    "* X25 - Operating Profit Growth Rate: Operating Income Growth\n",
    "* X26 - After-tax Net Profit Growth Rate: Net Income Growth\n",
    "* X27 - Regular Net Profit Growth Rate: Continuing Operating Income after Tax Growth\n",
    "* X28 - Continuous Net Profit Growth Rate: Net Income-Excluding Disposal Gain or Loss Growth\n",
    "* X29 - Total Asset Growth Rate: Total Asset Growth\n",
    "* X30 - Net Value Growth Rate: Total Equity Growth\n",
    "* X31 - Total Asset Return Growth Rate Ratio: Return on Total Asset Growth\n",
    "* X32 - Cash Reinvestment %: Cash Reinvestment Ratio\n",
    "* X33 - Current Ratio\n",
    "* X34 - Quick Ratio: Acid Test\n",
    "* X35 - Interest Expense Ratio: Interest Expenses/Total Revenue\n",
    "* X36 - Total debt/Total net worth: Total Liability/Equity Ratio\n",
    "* X37 - Debt ratio %: Liability/Total Assets\n",
    "* X38 - Net worth/Assets: Equity/Total Assets\n",
    "* X39 - Long-term fund suitability ratio (A): (Long-term Liability+Equity)/Fixed Assets\n",
    "* X40 - Borrowing dependency: Cost of Interest-bearing Debt\n",
    "* X41 - Contingent liabilities/Net worth: Contingent Liability/Equity\n",
    "* X42 - Operating profit/Paid-in capital: Operating Income/Capital\n",
    "* X43 - Net profit before tax/Paid-in capital: Pretax Income/Capital\n",
    "* X44 - Inventory and accounts receivable/Net value: (Inventory+Accounts Receivables)/Equity\n",
    "* X45 - Total Asset Turnover\n",
    "* X46 - Accounts Receivable Turnover\n",
    "* X47 - Average Collection Days: Days Receivable Outstanding\n",
    "* X48 - Inventory Turnover Rate (times)\n",
    "* X49 - Fixed Assets Turnover Frequency\n",
    "* X50 - Net Worth Turnover Rate (times): Equity Turnover\n",
    "* X51 - Revenue per person: Sales Per Employee\n",
    "* X52 - Operating profit per person: Operation Income Per Employee\n",
    "* X53 - Allocation rate per person: Fixed Assets Per Employee\n",
    "* X54 - Working Capital to Total Assets\n",
    "* X55 - Quick Assets/Total Assets\n",
    "* X56 - Current Assets/Total Assets\n",
    "* X57 - Cash/Total Assets\n",
    "* X58 - Quick Assets/Current Liability\n",
    "* X59 - Cash/Current Liability\n",
    "* X60 - Current Liability to Assets\n",
    "* X61 - Operating Funds to Liability\n",
    "* X62 - Inventory/Working Capital\n",
    "* X63 - Inventory/Current Liability\n",
    "* X64 - Current Liabilities/Liability\n",
    "* X65 - Working Capital/Equity\n",
    "* X66 - Current Liabilities/Equity\n",
    "* X67 - Long-term Liability to Current Assets\n",
    "* X68 - Retained Earnings to Total Assets\n",
    "* X69 - Total income/Total expense\n",
    "* X70 - Total expense/Assets\n",
    "* X71 - Current Asset Turnover Rate: Current Assets to Sales\n",
    "* X72 - Quick Asset Turnover Rate: Quick Assets to Sales\n",
    "* X73 - Working capitcal Turnover Rate: Working Capital to Sales\n",
    "* X74 - Cash Turnover Rate: Cash to Sales\n",
    "* X75 - Cash Flow to Sales\n",
    "* X76 - Fixed Assets to Assets\n",
    "* X77 - Current Liability to Liability\n",
    "* X78 - Current Liability to Equity\n",
    "* X79 - Equity to Long-term Liability\n",
    "* X80 - Cash Flow to Total Assets\n",
    "* X81 - Cash Flow to Liability\n",
    "* X82 - CFO to Assets\n",
    "* X83 - Cash Flow to Equity\n",
    "* X84 - Current Liability to Current Assets\n",
    "* X85 - Liability-Assets Flag: 1 if Total Liability exceeds Total Assets, 0 otherwise\n",
    "* X86 - Net Income to Total Assets\n",
    "* X87 - Total assets to GNP price\n",
    "* X88 - No-credit Interval\n",
    "* X89 - Gross Profit to Sales\n",
    "* X90 - Net Income to Stockholder's Equity\n",
    "* X91 - Liability to Equity\n",
    "* X92 - Degree of Financial Leverage (DFL)\n",
    "* X93 - Interest Coverage Ratio (Interest expense to EBIT)\n",
    "* X94 - Net Income Flag: 1 if Net Income is Negative for the last two years, 0 otherwise\n",
    "* X95 - Equity to Liability"
   ]
  },
  {
   "cell_type": "code",
   "execution_count": 89,
   "id": "5d086f02-be04-4edf-a401-e387d787150f",
   "metadata": {
    "tags": []
   },
   "outputs": [],
   "source": [
    "#Import all the relevant/required libraries\n",
    "\n",
    "import pandas as pd\n",
    "import numpy as np\n",
    "import seaborn as sb\n",
    "import matplotlib.pyplot as plt\n",
    "sb.set()\n",
    "pd.set_option('display.max_rows',None)"
   ]
  },
  {
   "cell_type": "code",
   "execution_count": 90,
   "id": "9c9b218f-59fd-4382-8834-b92a14372266",
   "metadata": {
    "tags": []
   },
   "outputs": [
    {
     "data": {
      "text/html": [
       "<div>\n",
       "<style scoped>\n",
       "    .dataframe tbody tr th:only-of-type {\n",
       "        vertical-align: middle;\n",
       "    }\n",
       "\n",
       "    .dataframe tbody tr th {\n",
       "        vertical-align: top;\n",
       "    }\n",
       "\n",
       "    .dataframe thead th {\n",
       "        text-align: right;\n",
       "    }\n",
       "</style>\n",
       "<table border=\"1\" class=\"dataframe\">\n",
       "  <thead>\n",
       "    <tr style=\"text-align: right;\">\n",
       "      <th></th>\n",
       "      <th>Bankrupt?</th>\n",
       "      <th>ROA(C) before interest and depreciation before interest</th>\n",
       "      <th>ROA(A) before interest and % after tax</th>\n",
       "      <th>ROA(B) before interest and depreciation after tax</th>\n",
       "      <th>Operating Gross Margin</th>\n",
       "      <th>Realized Sales Gross Margin</th>\n",
       "      <th>Operating Profit Rate</th>\n",
       "      <th>Pre-tax net Interest Rate</th>\n",
       "      <th>After-tax net Interest Rate</th>\n",
       "      <th>Non-industry income and expenditure/revenue</th>\n",
       "      <th>...</th>\n",
       "      <th>Net Income to Total Assets</th>\n",
       "      <th>Total assets to GNP price</th>\n",
       "      <th>No-credit Interval</th>\n",
       "      <th>Gross Profit to Sales</th>\n",
       "      <th>Net Income to Stockholder's Equity</th>\n",
       "      <th>Liability to Equity</th>\n",
       "      <th>Degree of Financial Leverage (DFL)</th>\n",
       "      <th>Interest Coverage Ratio (Interest expense to EBIT)</th>\n",
       "      <th>Net Income Flag</th>\n",
       "      <th>Equity to Liability</th>\n",
       "    </tr>\n",
       "  </thead>\n",
       "  <tbody>\n",
       "    <tr>\n",
       "      <th>0</th>\n",
       "      <td>1</td>\n",
       "      <td>0.370594</td>\n",
       "      <td>0.424389</td>\n",
       "      <td>0.405750</td>\n",
       "      <td>0.601457</td>\n",
       "      <td>0.601457</td>\n",
       "      <td>0.998969</td>\n",
       "      <td>0.796887</td>\n",
       "      <td>0.808809</td>\n",
       "      <td>0.302646</td>\n",
       "      <td>...</td>\n",
       "      <td>0.716845</td>\n",
       "      <td>0.009219</td>\n",
       "      <td>0.622879</td>\n",
       "      <td>0.601453</td>\n",
       "      <td>0.827890</td>\n",
       "      <td>0.290202</td>\n",
       "      <td>0.026601</td>\n",
       "      <td>0.564050</td>\n",
       "      <td>1</td>\n",
       "      <td>0.016469</td>\n",
       "    </tr>\n",
       "    <tr>\n",
       "      <th>1</th>\n",
       "      <td>1</td>\n",
       "      <td>0.464291</td>\n",
       "      <td>0.538214</td>\n",
       "      <td>0.516730</td>\n",
       "      <td>0.610235</td>\n",
       "      <td>0.610235</td>\n",
       "      <td>0.998946</td>\n",
       "      <td>0.797380</td>\n",
       "      <td>0.809301</td>\n",
       "      <td>0.303556</td>\n",
       "      <td>...</td>\n",
       "      <td>0.795297</td>\n",
       "      <td>0.008323</td>\n",
       "      <td>0.623652</td>\n",
       "      <td>0.610237</td>\n",
       "      <td>0.839969</td>\n",
       "      <td>0.283846</td>\n",
       "      <td>0.264577</td>\n",
       "      <td>0.570175</td>\n",
       "      <td>1</td>\n",
       "      <td>0.020794</td>\n",
       "    </tr>\n",
       "    <tr>\n",
       "      <th>2</th>\n",
       "      <td>1</td>\n",
       "      <td>0.426071</td>\n",
       "      <td>0.499019</td>\n",
       "      <td>0.472295</td>\n",
       "      <td>0.601450</td>\n",
       "      <td>0.601364</td>\n",
       "      <td>0.998857</td>\n",
       "      <td>0.796403</td>\n",
       "      <td>0.808388</td>\n",
       "      <td>0.302035</td>\n",
       "      <td>...</td>\n",
       "      <td>0.774670</td>\n",
       "      <td>0.040003</td>\n",
       "      <td>0.623841</td>\n",
       "      <td>0.601449</td>\n",
       "      <td>0.836774</td>\n",
       "      <td>0.290189</td>\n",
       "      <td>0.026555</td>\n",
       "      <td>0.563706</td>\n",
       "      <td>1</td>\n",
       "      <td>0.016474</td>\n",
       "    </tr>\n",
       "    <tr>\n",
       "      <th>3</th>\n",
       "      <td>1</td>\n",
       "      <td>0.399844</td>\n",
       "      <td>0.451265</td>\n",
       "      <td>0.457733</td>\n",
       "      <td>0.583541</td>\n",
       "      <td>0.583541</td>\n",
       "      <td>0.998700</td>\n",
       "      <td>0.796967</td>\n",
       "      <td>0.808966</td>\n",
       "      <td>0.303350</td>\n",
       "      <td>...</td>\n",
       "      <td>0.739555</td>\n",
       "      <td>0.003252</td>\n",
       "      <td>0.622929</td>\n",
       "      <td>0.583538</td>\n",
       "      <td>0.834697</td>\n",
       "      <td>0.281721</td>\n",
       "      <td>0.026697</td>\n",
       "      <td>0.564663</td>\n",
       "      <td>1</td>\n",
       "      <td>0.023982</td>\n",
       "    </tr>\n",
       "    <tr>\n",
       "      <th>4</th>\n",
       "      <td>1</td>\n",
       "      <td>0.465022</td>\n",
       "      <td>0.538432</td>\n",
       "      <td>0.522298</td>\n",
       "      <td>0.598783</td>\n",
       "      <td>0.598783</td>\n",
       "      <td>0.998973</td>\n",
       "      <td>0.797366</td>\n",
       "      <td>0.809304</td>\n",
       "      <td>0.303475</td>\n",
       "      <td>...</td>\n",
       "      <td>0.795016</td>\n",
       "      <td>0.003878</td>\n",
       "      <td>0.623521</td>\n",
       "      <td>0.598782</td>\n",
       "      <td>0.839973</td>\n",
       "      <td>0.278514</td>\n",
       "      <td>0.024752</td>\n",
       "      <td>0.575617</td>\n",
       "      <td>1</td>\n",
       "      <td>0.035490</td>\n",
       "    </tr>\n",
       "  </tbody>\n",
       "</table>\n",
       "<p>5 rows × 96 columns</p>\n",
       "</div>"
      ],
      "text/plain": [
       "   Bankrupt?   ROA(C) before interest and depreciation before interest  \\\n",
       "0          1                                           0.370594          \n",
       "1          1                                           0.464291          \n",
       "2          1                                           0.426071          \n",
       "3          1                                           0.399844          \n",
       "4          1                                           0.465022          \n",
       "\n",
       "    ROA(A) before interest and % after tax  \\\n",
       "0                                 0.424389   \n",
       "1                                 0.538214   \n",
       "2                                 0.499019   \n",
       "3                                 0.451265   \n",
       "4                                 0.538432   \n",
       "\n",
       "    ROA(B) before interest and depreciation after tax  \\\n",
       "0                                           0.405750    \n",
       "1                                           0.516730    \n",
       "2                                           0.472295    \n",
       "3                                           0.457733    \n",
       "4                                           0.522298    \n",
       "\n",
       "    Operating Gross Margin   Realized Sales Gross Margin  \\\n",
       "0                 0.601457                      0.601457   \n",
       "1                 0.610235                      0.610235   \n",
       "2                 0.601450                      0.601364   \n",
       "3                 0.583541                      0.583541   \n",
       "4                 0.598783                      0.598783   \n",
       "\n",
       "    Operating Profit Rate   Pre-tax net Interest Rate  \\\n",
       "0                0.998969                    0.796887   \n",
       "1                0.998946                    0.797380   \n",
       "2                0.998857                    0.796403   \n",
       "3                0.998700                    0.796967   \n",
       "4                0.998973                    0.797366   \n",
       "\n",
       "    After-tax net Interest Rate   Non-industry income and expenditure/revenue  \\\n",
       "0                      0.808809                                      0.302646   \n",
       "1                      0.809301                                      0.303556   \n",
       "2                      0.808388                                      0.302035   \n",
       "3                      0.808966                                      0.303350   \n",
       "4                      0.809304                                      0.303475   \n",
       "\n",
       "   ...   Net Income to Total Assets   Total assets to GNP price  \\\n",
       "0  ...                     0.716845                    0.009219   \n",
       "1  ...                     0.795297                    0.008323   \n",
       "2  ...                     0.774670                    0.040003   \n",
       "3  ...                     0.739555                    0.003252   \n",
       "4  ...                     0.795016                    0.003878   \n",
       "\n",
       "    No-credit Interval   Gross Profit to Sales  \\\n",
       "0             0.622879                0.601453   \n",
       "1             0.623652                0.610237   \n",
       "2             0.623841                0.601449   \n",
       "3             0.622929                0.583538   \n",
       "4             0.623521                0.598782   \n",
       "\n",
       "    Net Income to Stockholder's Equity   Liability to Equity  \\\n",
       "0                             0.827890              0.290202   \n",
       "1                             0.839969              0.283846   \n",
       "2                             0.836774              0.290189   \n",
       "3                             0.834697              0.281721   \n",
       "4                             0.839973              0.278514   \n",
       "\n",
       "    Degree of Financial Leverage (DFL)  \\\n",
       "0                             0.026601   \n",
       "1                             0.264577   \n",
       "2                             0.026555   \n",
       "3                             0.026697   \n",
       "4                             0.024752   \n",
       "\n",
       "    Interest Coverage Ratio (Interest expense to EBIT)   Net Income Flag  \\\n",
       "0                                           0.564050                   1   \n",
       "1                                           0.570175                   1   \n",
       "2                                           0.563706                   1   \n",
       "3                                           0.564663                   1   \n",
       "4                                           0.575617                   1   \n",
       "\n",
       "    Equity to Liability  \n",
       "0              0.016469  \n",
       "1              0.020794  \n",
       "2              0.016474  \n",
       "3              0.023982  \n",
       "4              0.035490  \n",
       "\n",
       "[5 rows x 96 columns]"
      ]
     },
     "execution_count": 90,
     "metadata": {},
     "output_type": "execute_result"
    }
   ],
   "source": [
    "# Read Data\n",
    "bank_data = pd.read_csv('./Data_source/data.csv')\n",
    "bank_data.head()"
   ]
  },
  {
   "cell_type": "code",
   "execution_count": 95,
   "id": "d0705f96-e044-4cf4-97c7-c37002a9dc15",
   "metadata": {
    "tags": []
   },
   "outputs": [
    {
     "name": "stdout",
     "output_type": "stream",
     "text": [
      "<class 'pandas.core.frame.DataFrame'>\n",
      "RangeIndex: 6819 entries, 0 to 6818\n",
      "Data columns (total 96 columns):\n",
      " #   Column                                                    Non-Null Count  Dtype  \n",
      "---  ------                                                    --------------  -----  \n",
      " 0   Bankrupt?                                                 6819 non-null   int64  \n",
      " 1    ROA(C) before interest and depreciation before interest  6819 non-null   float64\n",
      " 2    ROA(A) before interest and % after tax                   6819 non-null   float64\n",
      " 3    ROA(B) before interest and depreciation after tax        6819 non-null   float64\n",
      " 4    Operating Gross Margin                                   6819 non-null   float64\n",
      " 5    Realized Sales Gross Margin                              6819 non-null   float64\n",
      " 6    Operating Profit Rate                                    6819 non-null   float64\n",
      " 7    Pre-tax net Interest Rate                                6819 non-null   float64\n",
      " 8    After-tax net Interest Rate                              6819 non-null   float64\n",
      " 9    Non-industry income and expenditure/revenue              6819 non-null   float64\n",
      " 10   Continuous interest rate (after tax)                     6819 non-null   float64\n",
      " 11   Operating Expense Rate                                   6819 non-null   float64\n",
      " 12   Research and development expense rate                    6819 non-null   float64\n",
      " 13   Cash flow rate                                           6819 non-null   float64\n",
      " 14   Interest-bearing debt interest rate                      6819 non-null   float64\n",
      " 15   Tax rate (A)                                             6819 non-null   float64\n",
      " 16   Net Value Per Share (B)                                  6819 non-null   float64\n",
      " 17   Net Value Per Share (A)                                  6819 non-null   float64\n",
      " 18   Net Value Per Share (C)                                  6819 non-null   float64\n",
      " 19   Persistent EPS in the Last Four Seasons                  6819 non-null   float64\n",
      " 20   Cash Flow Per Share                                      6819 non-null   float64\n",
      " 21   Revenue Per Share (Yuan ¥)                               6819 non-null   float64\n",
      " 22   Operating Profit Per Share (Yuan ¥)                      6819 non-null   float64\n",
      " 23   Per Share Net profit before tax (Yuan ¥)                 6819 non-null   float64\n",
      " 24   Realized Sales Gross Profit Growth Rate                  6819 non-null   float64\n",
      " 25   Operating Profit Growth Rate                             6819 non-null   float64\n",
      " 26   After-tax Net Profit Growth Rate                         6819 non-null   float64\n",
      " 27   Regular Net Profit Growth Rate                           6819 non-null   float64\n",
      " 28   Continuous Net Profit Growth Rate                        6819 non-null   float64\n",
      " 29   Total Asset Growth Rate                                  6819 non-null   float64\n",
      " 30   Net Value Growth Rate                                    6819 non-null   float64\n",
      " 31   Total Asset Return Growth Rate Ratio                     6819 non-null   float64\n",
      " 32   Cash Reinvestment %                                      6819 non-null   float64\n",
      " 33   Current Ratio                                            6819 non-null   float64\n",
      " 34   Quick Ratio                                              6819 non-null   float64\n",
      " 35   Interest Expense Ratio                                   6819 non-null   float64\n",
      " 36   Total debt/Total net worth                               6819 non-null   float64\n",
      " 37   Debt ratio %                                             6819 non-null   float64\n",
      " 38   Net worth/Assets                                         6819 non-null   float64\n",
      " 39   Long-term fund suitability ratio (A)                     6819 non-null   float64\n",
      " 40   Borrowing dependency                                     6819 non-null   float64\n",
      " 41   Contingent liabilities/Net worth                         6819 non-null   float64\n",
      " 42   Operating profit/Paid-in capital                         6819 non-null   float64\n",
      " 43   Net profit before tax/Paid-in capital                    6819 non-null   float64\n",
      " 44   Inventory and accounts receivable/Net value              6819 non-null   float64\n",
      " 45   Total Asset Turnover                                     6819 non-null   float64\n",
      " 46   Accounts Receivable Turnover                             6819 non-null   float64\n",
      " 47   Average Collection Days                                  6819 non-null   float64\n",
      " 48   Inventory Turnover Rate (times)                          6819 non-null   float64\n",
      " 49   Fixed Assets Turnover Frequency                          6819 non-null   float64\n",
      " 50   Net Worth Turnover Rate (times)                          6819 non-null   float64\n",
      " 51   Revenue per person                                       6819 non-null   float64\n",
      " 52   Operating profit per person                              6819 non-null   float64\n",
      " 53   Allocation rate per person                               6819 non-null   float64\n",
      " 54   Working Capital to Total Assets                          6819 non-null   float64\n",
      " 55   Quick Assets/Total Assets                                6819 non-null   float64\n",
      " 56   Current Assets/Total Assets                              6819 non-null   float64\n",
      " 57   Cash/Total Assets                                        6819 non-null   float64\n",
      " 58   Quick Assets/Current Liability                           6819 non-null   float64\n",
      " 59   Cash/Current Liability                                   6819 non-null   float64\n",
      " 60   Current Liability to Assets                              6819 non-null   float64\n",
      " 61   Operating Funds to Liability                             6819 non-null   float64\n",
      " 62   Inventory/Working Capital                                6819 non-null   float64\n",
      " 63   Inventory/Current Liability                              6819 non-null   float64\n",
      " 64   Current Liabilities/Liability                            6819 non-null   float64\n",
      " 65   Working Capital/Equity                                   6819 non-null   float64\n",
      " 66   Current Liabilities/Equity                               6819 non-null   float64\n",
      " 67   Long-term Liability to Current Assets                    6819 non-null   float64\n",
      " 68   Retained Earnings to Total Assets                        6819 non-null   float64\n",
      " 69   Total income/Total expense                               6819 non-null   float64\n",
      " 70   Total expense/Assets                                     6819 non-null   float64\n",
      " 71   Current Asset Turnover Rate                              6819 non-null   float64\n",
      " 72   Quick Asset Turnover Rate                                6819 non-null   float64\n",
      " 73   Working capitcal Turnover Rate                           6819 non-null   float64\n",
      " 74   Cash Turnover Rate                                       6819 non-null   float64\n",
      " 75   Cash Flow to Sales                                       6819 non-null   float64\n",
      " 76   Fixed Assets to Assets                                   6819 non-null   float64\n",
      " 77   Current Liability to Liability                           6819 non-null   float64\n",
      " 78   Current Liability to Equity                              6819 non-null   float64\n",
      " 79   Equity to Long-term Liability                            6819 non-null   float64\n",
      " 80   Cash Flow to Total Assets                                6819 non-null   float64\n",
      " 81   Cash Flow to Liability                                   6819 non-null   float64\n",
      " 82   CFO to Assets                                            6819 non-null   float64\n",
      " 83   Cash Flow to Equity                                      6819 non-null   float64\n",
      " 84   Current Liability to Current Assets                      6819 non-null   float64\n",
      " 85   Liability-Assets Flag                                    6819 non-null   int64  \n",
      " 86   Net Income to Total Assets                               6819 non-null   float64\n",
      " 87   Total assets to GNP price                                6819 non-null   float64\n",
      " 88   No-credit Interval                                       6819 non-null   float64\n",
      " 89   Gross Profit to Sales                                    6819 non-null   float64\n",
      " 90   Net Income to Stockholder's Equity                       6819 non-null   float64\n",
      " 91   Liability to Equity                                      6819 non-null   float64\n",
      " 92   Degree of Financial Leverage (DFL)                       6819 non-null   float64\n",
      " 93   Interest Coverage Ratio (Interest expense to EBIT)       6819 non-null   float64\n",
      " 94   Net Income Flag                                          6819 non-null   int64  \n",
      " 95   Equity to Liability                                      6819 non-null   float64\n",
      "dtypes: float64(93), int64(3)\n",
      "memory usage: 5.0 MB\n"
     ]
    }
   ],
   "source": [
    "bank_data.info()"
   ]
  },
  {
   "cell_type": "code",
   "execution_count": 96,
   "id": "3f6cbb9c-4534-4db8-96f5-2bc744e9b812",
   "metadata": {
    "tags": []
   },
   "outputs": [
    {
     "data": {
      "text/plain": [
       "(6819, 96)"
      ]
     },
     "execution_count": 96,
     "metadata": {},
     "output_type": "execute_result"
    }
   ],
   "source": [
    "#Check to see how is the row column structure distributed across\n",
    "bank_data.shape"
   ]
  },
  {
   "cell_type": "markdown",
   "id": "102bfa72-e7c9-4c4f-aa1c-257b1dfda606",
   "metadata": {},
   "source": [
    "Taking a quick look at our DataFrame above we can see that the first column contains our target variable of bankruptcy. The rest of our data is numerical in nature and contains indicator variables for financial instruments such as the 'Net Income Flag' column, in addition to various financial metrics. Most of these entries have been normalized, or display a percentage, with some non-normalized entries that should be closely looked at for any outliers that may affect predictive modeling."
   ]
  },
  {
   "cell_type": "markdown",
   "id": "ee44f3d6-d8c9-46c9-acfe-42d6f4a8720d",
   "metadata": {},
   "source": [
    "All features are stored in their respective data type, with 93 columns displaying the float data type, and 3 displaying integer data types. The integer data types are representing indicator variables, such as our target variable bankruptcy, with either the presence of 0 or 1. We have 6819 entries in our dataset overall, or 6861 rows."
   ]
  },
  {
   "cell_type": "code",
   "execution_count": 97,
   "id": "c9373f08-507c-44c6-b18b-67e03f7b8f90",
   "metadata": {
    "tags": []
   },
   "outputs": [
    {
     "data": {
      "text/plain": [
       "Bankrupt?                                                   False\n",
       " ROA(C) before interest and depreciation before interest    False\n",
       " ROA(A) before interest and % after tax                     False\n",
       " ROA(B) before interest and depreciation after tax          False\n",
       " Operating Gross Margin                                     False\n",
       " Realized Sales Gross Margin                                False\n",
       " Operating Profit Rate                                      False\n",
       " Pre-tax net Interest Rate                                  False\n",
       " After-tax net Interest Rate                                False\n",
       " Non-industry income and expenditure/revenue                False\n",
       " Continuous interest rate (after tax)                       False\n",
       " Operating Expense Rate                                     False\n",
       " Research and development expense rate                      False\n",
       " Cash flow rate                                             False\n",
       " Interest-bearing debt interest rate                        False\n",
       " Tax rate (A)                                               False\n",
       " Net Value Per Share (B)                                    False\n",
       " Net Value Per Share (A)                                    False\n",
       " Net Value Per Share (C)                                    False\n",
       " Persistent EPS in the Last Four Seasons                    False\n",
       " Cash Flow Per Share                                        False\n",
       " Revenue Per Share (Yuan ¥)                                 False\n",
       " Operating Profit Per Share (Yuan ¥)                        False\n",
       " Per Share Net profit before tax (Yuan ¥)                   False\n",
       " Realized Sales Gross Profit Growth Rate                    False\n",
       " Operating Profit Growth Rate                               False\n",
       " After-tax Net Profit Growth Rate                           False\n",
       " Regular Net Profit Growth Rate                             False\n",
       " Continuous Net Profit Growth Rate                          False\n",
       " Total Asset Growth Rate                                    False\n",
       " Net Value Growth Rate                                      False\n",
       " Total Asset Return Growth Rate Ratio                       False\n",
       " Cash Reinvestment %                                        False\n",
       " Current Ratio                                              False\n",
       " Quick Ratio                                                False\n",
       " Interest Expense Ratio                                     False\n",
       " Total debt/Total net worth                                 False\n",
       " Debt ratio %                                               False\n",
       " Net worth/Assets                                           False\n",
       " Long-term fund suitability ratio (A)                       False\n",
       " Borrowing dependency                                       False\n",
       " Contingent liabilities/Net worth                           False\n",
       " Operating profit/Paid-in capital                           False\n",
       " Net profit before tax/Paid-in capital                      False\n",
       " Inventory and accounts receivable/Net value                False\n",
       " Total Asset Turnover                                       False\n",
       " Accounts Receivable Turnover                               False\n",
       " Average Collection Days                                    False\n",
       " Inventory Turnover Rate (times)                            False\n",
       " Fixed Assets Turnover Frequency                            False\n",
       " Net Worth Turnover Rate (times)                            False\n",
       " Revenue per person                                         False\n",
       " Operating profit per person                                False\n",
       " Allocation rate per person                                 False\n",
       " Working Capital to Total Assets                            False\n",
       " Quick Assets/Total Assets                                  False\n",
       " Current Assets/Total Assets                                False\n",
       " Cash/Total Assets                                          False\n",
       " Quick Assets/Current Liability                             False\n",
       " Cash/Current Liability                                     False\n",
       " Current Liability to Assets                                False\n",
       " Operating Funds to Liability                               False\n",
       " Inventory/Working Capital                                  False\n",
       " Inventory/Current Liability                                False\n",
       " Current Liabilities/Liability                              False\n",
       " Working Capital/Equity                                     False\n",
       " Current Liabilities/Equity                                 False\n",
       " Long-term Liability to Current Assets                      False\n",
       " Retained Earnings to Total Assets                          False\n",
       " Total income/Total expense                                 False\n",
       " Total expense/Assets                                       False\n",
       " Current Asset Turnover Rate                                False\n",
       " Quick Asset Turnover Rate                                  False\n",
       " Working capitcal Turnover Rate                             False\n",
       " Cash Turnover Rate                                         False\n",
       " Cash Flow to Sales                                         False\n",
       " Fixed Assets to Assets                                     False\n",
       " Current Liability to Liability                             False\n",
       " Current Liability to Equity                                False\n",
       " Equity to Long-term Liability                              False\n",
       " Cash Flow to Total Assets                                  False\n",
       " Cash Flow to Liability                                     False\n",
       " CFO to Assets                                              False\n",
       " Cash Flow to Equity                                        False\n",
       " Current Liability to Current Assets                        False\n",
       " Liability-Assets Flag                                      False\n",
       " Net Income to Total Assets                                 False\n",
       " Total assets to GNP price                                  False\n",
       " No-credit Interval                                         False\n",
       " Gross Profit to Sales                                      False\n",
       " Net Income to Stockholder's Equity                         False\n",
       " Liability to Equity                                        False\n",
       " Degree of Financial Leverage (DFL)                         False\n",
       " Interest Coverage Ratio (Interest expense to EBIT)         False\n",
       " Net Income Flag                                            False\n",
       " Equity to Liability                                        False\n",
       "dtype: bool"
      ]
     },
     "execution_count": 97,
     "metadata": {},
     "output_type": "execute_result"
    }
   ],
   "source": [
    "#Sanity Check for Null values\n",
    "bank_data.isnull().any()"
   ]
  },
  {
   "cell_type": "code",
   "execution_count": 108,
   "id": "8051593f-3bf3-4a60-84df-ae5bf6487369",
   "metadata": {
    "tags": []
   },
   "outputs": [
    {
     "data": {
      "text/plain": [
       "0"
      ]
     },
     "execution_count": 108,
     "metadata": {},
     "output_type": "execute_result"
    }
   ],
   "source": [
    "#Check for any duplicates in the dataset\n",
    "bank_data.duplicated().sum()"
   ]
  },
  {
   "cell_type": "code",
   "execution_count": 98,
   "id": "53894a0f-06a0-4c0f-9a42-3e562f340482",
   "metadata": {
    "tags": []
   },
   "outputs": [
    {
     "data": {
      "text/plain": [
       "0    6599\n",
       "1     220\n",
       "Name: Bankrupt?, dtype: int64"
      ]
     },
     "execution_count": 98,
     "metadata": {},
     "output_type": "execute_result"
    }
   ],
   "source": [
    "bank_data[\"Bankrupt?\"].value_counts()"
   ]
  },
  {
   "cell_type": "code",
   "execution_count": 112,
   "id": "0231ecf2-b1f4-4031-95ac-b492e651fc94",
   "metadata": {
    "tags": []
   },
   "outputs": [],
   "source": [
    "#It is seen that all the column names have leading spaces before them, clearing them now. using str.strip and rename to fix this\n",
    "bank_data = bank_data.rename(str.strip, axis = 'columns')\n"
   ]
  },
  {
   "cell_type": "code",
   "execution_count": 102,
   "id": "e75cbaf7-df67-462e-a15b-45cca7798e61",
   "metadata": {
    "tags": []
   },
   "outputs": [
    {
     "data": {
      "text/plain": [
       "float64    93\n",
       "int64       3\n",
       "dtype: int64"
      ]
     },
     "execution_count": 102,
     "metadata": {},
     "output_type": "execute_result"
    }
   ],
   "source": [
    "#Now we need to filter / Identify the Categorical and Continuous columns in the dataset\n",
    "\n",
    "bank_data.dtypes.value_counts()"
   ]
  },
  {
   "cell_type": "code",
   "execution_count": 104,
   "id": "7ce4b3ca-f5ec-4a3b-85c1-86cb491cc4fd",
   "metadata": {
    "tags": []
   },
   "outputs": [],
   "source": [
    "#This indicates that there are mainly 2 kinds of data Float and integer types since there is only\n",
    "#  3 integer data type columns, lets look deeper into them \n",
    "\n"
   ]
  },
  {
   "cell_type": "code",
   "execution_count": 105,
   "id": "cfa751af-75f5-497d-bd22-7099caeb24e7",
   "metadata": {
    "tags": []
   },
   "outputs": [],
   "source": [
    "#Select only the integer type columns and see what are the unique values in them"
   ]
  },
  {
   "cell_type": "code",
   "execution_count": 106,
   "id": "9441938d-510a-42cb-a170-a0db2fb03d50",
   "metadata": {
    "tags": []
   },
   "outputs": [
    {
     "name": "stdout",
     "output_type": "stream",
     "text": [
      "'Bankrupt?' : [1 0]\n",
      "'Liability-Assets Flag' : [0 1]\n",
      "'Net Income Flag' : [1]\n"
     ]
    }
   ],
   "source": [
    "for each_col in bank_data.select_dtypes(include = ['int64']):\n",
    "    print(f\"'{each_col}' : {bank_data[each_col].unique()}\")\n",
    "\n"
   ]
  },
  {
   "cell_type": "code",
   "execution_count": 107,
   "id": "f0114932-d36e-43d7-8e43-5a89aed1819f",
   "metadata": {
    "tags": []
   },
   "outputs": [],
   "source": [
    "#From the data we can see that the integer columns are actually categorical varibales and \n",
    "#is confirmed by the dataset description that these variables are categorical "
   ]
  },
  {
   "cell_type": "code",
   "execution_count": 110,
   "id": "5096678a-2704-48ae-8b77-58231f8c2be4",
   "metadata": {
    "tags": []
   },
   "outputs": [
    {
     "data": {
      "text/plain": [
       "0    6599\n",
       "1     220\n",
       "Name: Bankrupt?, dtype: int64"
      ]
     },
     "execution_count": 110,
     "metadata": {},
     "output_type": "execute_result"
    }
   ],
   "source": [
    "#Let us check each of the Categorical columns one by one\n",
    "bank_data['Bankrupt?'].value_counts()"
   ]
  },
  {
   "cell_type": "code",
   "execution_count": 117,
   "id": "a99f9412-9524-41d8-93f0-6719b53b0193",
   "metadata": {
    "tags": []
   },
   "outputs": [
    {
     "data": {
      "image/png": "[encoded data removed]",
      "text/plain": [
       "<Figure size 500x500 with 1 Axes>"
      ]
     },
     "metadata": {},
     "output_type": "display_data"
    },
    {
     "data": {
      "text/plain": [
       "0    6599\n",
       "1     220\n",
       "Name: Bankrupt?, dtype: int64"
      ]
     },
     "execution_count": 117,
     "metadata": {},
     "output_type": "execute_result"
    }
   ],
   "source": [
    "br_check = sb.catplot(y=\"Bankrupt?\", data=bank_data, kind=\"count\", palette= \"prism\")\n",
    "plt.show()\n",
    "\n",
    "bank_data['Bankrupt?'].value_counts()"
   ]
  },
  {
   "cell_type": "code",
   "execution_count": 115,
   "id": "38f5c732-6459-42a3-8a5c-63b6bdd33c43",
   "metadata": {
    "tags": []
   },
   "outputs": [
    {
     "data": {
      "image/png": "[encoded data removed]",
      "text/plain": [
       "<Figure size 500x500 with 1 Axes>"
      ]
     },
     "metadata": {},
     "output_type": "display_data"
    },
    {
     "data": {
      "text/plain": [
       "0    6811\n",
       "1       8\n",
       "Name: Liability-Assets Flag, dtype: int64"
      ]
     },
     "execution_count": 115,
     "metadata": {},
     "output_type": "execute_result"
    }
   ],
   "source": [
    "liab_check = sb.catplot(y=\"Liability-Assets Flag\", data=bank_data, kind=\"count\", palette= \"prism\")\n",
    "plt.show()\n",
    "\n",
    "bank_data['Liability-Assets Flag'].value_counts()\n"
   ]
  },
  {
   "cell_type": "code",
   "execution_count": 116,
   "id": "2720814a-cf86-4b48-b6b9-3407c671d87d",
   "metadata": {
    "tags": []
   },
   "outputs": [
    {
     "data": {
      "image/png": "[encoded data removed]",
      "text/plain": [
       "<Figure size 500x500 with 1 Axes>"
      ]
     },
     "metadata": {},
     "output_type": "display_data"
    },
    {
     "data": {
      "text/plain": [
       "1    6819\n",
       "Name: Net Income Flag, dtype: int64"
      ]
     },
     "execution_count": 116,
     "metadata": {},
     "output_type": "execute_result"
    }
   ],
   "source": [
    "neti_check = sb.catplot(y=\"Net Income Flag\", data=bank_data, kind=\"count\", palette= \"prism\")\n",
    "plt.show()\n",
    "\n",
    "bank_data['Net Income Flag'].value_counts()"
   ]
  },
  {
   "cell_type": "code",
   "execution_count": 119,
   "id": "0e69847c-556d-4148-913c-eb08176c314e",
   "metadata": {
    "tags": []
   },
   "outputs": [],
   "source": [
    "#We can see that there is huge imabalace in the columns 'Liability-Assets Flag','Net Income Flag' and 'Net Income Flag' has only one 1 record in it. \n",
    "#These won't be used for our model prep and will be dropped now.\n",
    "\n",
    "updated_bank_data = bank_data.drop(['Liability-Assets Flag','Net Income Flag'],axis=1)"
   ]
  },
  {
   "cell_type": "code",
   "execution_count": 121,
   "id": "8da2610b-1cfd-447c-bc04-32a31d2080a6",
   "metadata": {
    "tags": []
   },
   "outputs": [
    {
     "data": {
      "text/plain": [
       "(6819, 94)"
      ]
     },
     "execution_count": 121,
     "metadata": {},
     "output_type": "execute_result"
    }
   ],
   "source": [
    "updated_bank_data.shape"
   ]
  },
  {
   "cell_type": "code",
   "execution_count": null,
   "id": "9fe92d47-6cd3-4480-ba6b-e08600e238eb",
   "metadata": {},
   "outputs": [],
   "source": [
    "#Now we will move on to check for outliers"
   ]
  }
 ],
 "metadata": {
  "kernelspec": {
   "display_name": "Python 3 (ipykernel)",
   "language": "python",
   "name": "python3"
  },
  "language_info": {
   "codemirror_mode": {
    "name": "ipython",
    "version": 3
   },
   "file_extension": ".py",
   "mimetype": "text/x-python",
   "name": "python",
   "nbconvert_exporter": "python",
   "pygments_lexer": "ipython3",
   "version": "3.10.6"
  }
 },
 "nbformat": 4,
 "nbformat_minor": 5
}
