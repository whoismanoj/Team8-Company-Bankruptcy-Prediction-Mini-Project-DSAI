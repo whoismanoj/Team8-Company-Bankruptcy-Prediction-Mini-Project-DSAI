{
 "cells": [
  {
   "cell_type": "markdown",
   "id": "48268ece-62f7-4acd-bf87-26af10d63c22",
   "metadata": {},
   "source": [
    "### Bankruptcy data from the Taiwan Economic Journal for the years 1999–2009\n",
    "### Company bankruptcy was defined based on the business regulations of the Taiwan Stock Exchange.\n",
    "\n",
    "#### Predict a company's bankuptcy based on the data\n",
    "#### DATASET by FEDESORIANO\n",
    "#### Kaggle Link: https://www.kaggle.com/datasets/fedesoriano/company-bankruptcy-prediction\n",
    "\n",
    "Project By Xing Ping, Edwin and Krishnadas"
   ]
  }
 ],
 "metadata": {
  "kernelspec": {
   "display_name": "Python 3 (ipykernel)",
   "language": "python",
   "name": "python3"
  },
  "language_info": {
   "codemirror_mode": {
    "name": "ipython",
    "version": 3
   },
   "file_extension": ".py",
   "mimetype": "text/x-python",
   "name": "python",
   "nbconvert_exporter": "python",
   "pygments_lexer": "ipython3",
   "version": "3.9.13"
  }
 },
 "nbformat": 4,
 "nbformat_minor": 5
}
